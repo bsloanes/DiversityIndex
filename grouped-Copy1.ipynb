{
 "cells": [
  {
   "cell_type": "code",
   "execution_count": 1,
   "id": "2a50da96-8b5d-49f8-b7f7-9b32c4909c76",
   "metadata": {
    "tags": []
   },
   "outputs": [],
   "source": [
    "import numpy as np\n",
    "import pandas as pd\n",
    "from groupRuns import groupRun, makeArray, fill_quantile_arrays\n",
    "import matplotlib.pyplot as plt"
   ]
  },
  {
   "cell_type": "code",
   "execution_count": 2,
   "id": "0409f86c-b053-44dc-9279-7a45c6c574f4",
   "metadata": {
    "tags": []
   },
   "outputs": [],
   "source": [
    "gender_weights = [0.64, 0.36]\n",
    "gender_labels = ['M', 'F']\n",
    "\n",
    "r_weights = [0.015, 0.1, 0.13, 0.07, 0.01, 0.675]\n",
    "r_labels = ['AI/NA', 'Asian', 'Black', 'Multi-Racial', 'NH/OPI', 'White']\n",
    "\n",
    "eth_weights = [0.15, 0.85]\n",
    "eth_labels = ['Hispanic', 'Non-Hispanic']\n"
   ]
  },
  {
   "cell_type": "code",
   "execution_count": 17,
   "id": "17778646-201f-4a1b-87e6-b6b72b38b5a3",
   "metadata": {
    "tags": []
   },
   "outputs": [],
   "source": [
    "#Demonstrate how the number of simulations influences spread \n",
    "#simulation_sizes = [10, 100, 1000]\n",
    "simulation_sizes = [100]\n",
    "\n",
    "#Different samples sizes we want to try out\n",
    "samplesLog = [5, 10, 20, 50, 100, 200, 500, 1000, 10000, 100000]\n",
    "samples = list(range(1,101))\n",
    "samples5 = list(range(5,101,5))\n",
    "samples10 = list(range(5,51,5))\n",
    "\n",
    "quantiles = [0.025, 0.25, 0.5, 0.75, 0.975]"
   ]
  },
  {
   "cell_type": "code",
   "execution_count": null,
   "id": "c6e55499-3da7-4a7b-9eab-912ed12f97b0",
   "metadata": {
    "tags": []
   },
   "outputs": [],
   "source": []
  },
  {
   "cell_type": "code",
   "execution_count": null,
   "id": "dadf1f9c-df2d-4cef-8590-b2b1b5af2eae",
   "metadata": {
    "tags": []
   },
   "outputs": [],
   "source": []
  },
  {
   "cell_type": "code",
   "execution_count": 4,
   "id": "bf3c13fc-8936-42ae-b74f-fd4895dde15f",
   "metadata": {
    "tags": []
   },
   "outputs": [
    {
     "name": "stdout",
     "output_type": "stream",
     "text": [
      "0.37279999999999985 0.5177833093842183 0.22781669061578141 0.43999999999999995 0.6406389792637512 0.23936102073624868 0.20959999999999993 0.4038468532563654 0.015353146743634444\n",
      "0.4307999999999999 0.5195432250935247 0.3420567749064751 0.46819999999999984 0.6341420380735392 0.30225796192646043 0.22519999999999993 0.35905424909206274 0.09134575090793715\n",
      "0.4489499999999999 0.5077475127024944 0.3901524872975054 0.50555 0.6104616175645005 0.40063838243549965 0.2432 0.34172796557323204 0.14467203442676796\n",
      "0.4521279999999999 0.49076571753093073 0.4134902824690691 0.49035999999999996 0.5717738563145119 0.408946143685488 0.24668000000000004 0.3140452610772051 0.17931473892279495\n",
      "0.4559659999999999 0.4854887512945524 0.4264432487054475 0.5041960000000001 0.5595281894018301 0.44886381059817004 0.259094 0.3097198151934366 0.20846818480656337\n",
      "0.4594874999999999 0.47787426613083434 0.44110073386916543 0.5063285000000001 0.5451728704125837 0.4674841295874165 0.2547995 0.2855345797095111 0.2240644202904889\n",
      "0.4578667200000001 0.4704692071815687 0.4452642328184315 0.51150928 0.5352681879134878 0.48775037208651206 0.2506065600000001 0.2742844892440535 0.22692863075594666\n",
      "0.4602051999999999 0.4685683966998271 0.45184200330017277 0.51144974 0.5286266847217018 0.4942727952782982 0.25499722 0.27107175362034497 0.23892268637965508\n",
      "0.4607910149999999 0.4634191744087914 0.45816285559120845 0.5121389481999999 0.5178681849436781 0.5064097114563217 0.25469657760000003 0.2605253704648318 0.2488677847351682\n",
      "0.46078283483399995 0.461637334427694 0.4599283352403059 0.512282598332 0.5139006621270984 0.5106645345369015 0.25516110407 0.2570533420217917 0.25326886611820826\n"
     ]
    }
   ],
   "source": [
    "# Calculate G-S indices with weights for gender and race/ethnicity from above using GroupRun\n",
    "# GroupRun also calculates quantiles, means, and standard deviations from the different GS DI values \n",
    "indices_g = []\n",
    "indices_r = []\n",
    "indices_eth = []\n",
    "g_mean = []\n",
    "r_mean = []\n",
    "eth_mean = []\n",
    "for i in range(len(samplesLog)):\n",
    "    for j in range(len(simulation_sizes)):\n",
    "        g_quantiles, re_quantiles, eth_quantiles, gst_devs, rest_devs, eth_devs, gmean, remean, ethmean, g_indices, re_indices, eth_indices = groupRun(gender_weights, gender_labels, r_weights, r_labels, eth_weights, eth_labels, simulation_sizes[j], samplesLog[i])\n",
    "        indices_g.append(g_indices)\n",
    "        indices_r.append(re_indices)\n",
    "        indices_eth.append(eth_indices)\n",
    "        g_mean.append(gmean)\n",
    "        r_mean.append(remean)\n",
    "        eth_mean.append(ethmean)\n",
    "        #print means, sigma, 2sigma, and 3sigma\n",
    "        print(gmean, gmean+gst_devs, gmean-gst_devs, remean, remean+rest_devs, remean-rest_devs, ethmean, ethmean+eth_devs, ethmean-eth_devs)\n",
    "        \n",
    "#-------------------------------------------------------------------------------------------------------------------------        \n",
    "        #USED FOR BOX PLOT\n",
    "        #print(samples[i], simulation_sizes[j])\n",
    "        #print(g_indices, re_indices)\n",
    "#-------------------------------------------------------------------------------------------------------------------------        \n"
   ]
  },
  {
   "cell_type": "code",
   "execution_count": 18,
   "id": "6a215431-5de8-4b0c-857a-a2f3149aa252",
   "metadata": {
    "tags": []
   },
   "outputs": [],
   "source": [
    "scatterMatch = [x//5 for x in samples10]"
   ]
  },
  {
   "cell_type": "code",
   "execution_count": null,
   "id": "a89fbf0d-8c5b-47e6-bbb5-e1693c3a41cb",
   "metadata": {
    "tags": []
   },
   "outputs": [],
   "source": []
  },
  {
   "cell_type": "code",
   "execution_count": 20,
   "id": "0f388a03-aafe-497a-99a5-99b0376fb449",
   "metadata": {
    "tags": []
   },
   "outputs": [
    {
     "data": {
      "image/png": "[encoded data removed]",
      "text/plain": [
       "<Figure size 640x480 with 1 Axes>"
      ]
     },
     "metadata": {},
     "output_type": "display_data"
    }
   ],
   "source": [
    "fig, ax = plt.subplots()\n",
    "\n",
    "bp = ax.boxplot(indices_eth, boxprops=dict(color='green'))\n",
    "mp = ax.scatter(scatterMatch, eth_mean, marker='o')\n",
    "\n",
    "\n",
    "ax.set_xticklabels([])\n",
    "\n",
    "fig.savefig(\"testFig.jpg\")"
   ]
  },
  {
   "cell_type": "code",
   "execution_count": null,
   "id": "cf3ff3e0-223c-45c9-b167-6a5bdbd15873",
   "metadata": {
    "tags": []
   },
   "outputs": [],
   "source": []
  },
  {
   "cell_type": "code",
   "execution_count": 21,
   "id": "ec6ce2b9-3c86-4ede-af93-a95ac777c607",
   "metadata": {
    "tags": []
   },
   "outputs": [],
   "source": [
    "# To create a figure with axis labels\n",
    "#fig, ax = plt.subplots()\n",
    "\n",
    "#bp = ax.boxplot(indices_g, boxprops=dict(color='green'))\n",
    "#mp = ax.scatter(samples, g_mean, marker='o')\n",
    "\n",
    "#ax.set_xticklabels([5*i for i in range(1,len(indices_g)+1)])\n",
    "#ax.set_xticklabels([])\n",
    "\n",
    "#fig.savefig(\"testFig.jpg\")"
   ]
  },
  {
   "cell_type": "code",
   "execution_count": null,
   "id": "4bb51f18-a631-4d81-bd05-327d6944a787",
   "metadata": {
    "tags": []
   },
   "outputs": [],
   "source": []
  },
  {
   "cell_type": "code",
   "execution_count": null,
   "id": "a9cab144-ebbb-455d-b317-acf85c68c647",
   "metadata": {
    "tags": []
   },
   "outputs": [],
   "source": [
    "# different sample sizes for 1000 iterations each\n",
    "for i in range(len(samples)):\n",
    "    g_quantiles, re_quantiles, gst_devs, rest_devs, gmean, remean = groupRun(gender_weights, gender_labels, re_weights, re_labels, simulation_sizes[2], samples[i])\n",
    "    print(gmean, gst_devs)"
   ]
  },
  {
   "cell_type": "code",
   "execution_count": null,
   "id": "2d456f5a-43f8-47f3-b8aa-90804f99449e",
   "metadata": {},
   "outputs": [],
   "source": [
    "print('Gender G-S index from population of' + str(sample_size) + 'and' + str(num_simulations) + 'iterations')\n",
    "print('Racial/Ethnic G-S index from population of' + str(sample_size) + 'and' + str(num_simulations) + 'iterations')"
   ]
  },
  {
   "cell_type": "code",
   "execution_count": null,
   "id": "4025998d-609f-4a43-a90b-a9ea6c4f4448",
   "metadata": {},
   "outputs": [],
   "source": []
  }
 ],
 "metadata": {
  "kernelspec": {
   "display_name": "Python 3 (ipykernel)",
   "language": "python",
   "name": "python3"
  },
  "language_info": {
   "codemirror_mode": {
    "name": "ipython",
    "version": 3
   },
   "file_extension": ".py",
   "mimetype": "text/x-python",
   "name": "python",
   "nbconvert_exporter": "python",
   "pygments_lexer": "ipython3",
   "version": "3.11.2"
  }
 },
 "nbformat": 4,
 "nbformat_minor": 5
}
